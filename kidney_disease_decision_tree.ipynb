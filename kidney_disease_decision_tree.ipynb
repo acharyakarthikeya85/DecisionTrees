{
 "cells": [
  {
   "cell_type": "markdown",
   "metadata": {
    "colab_type": "text",
    "id": "veUDaU-slFaB"
   },
   "source": [
    "## Data Descriptions\n",
    "\n",
    "### Kidney Disease Dataset\n",
    "\n",
    "Predicting Chronic Kidney Disease based on health records.\n",
    "\n",
    "Given 24 health related attributes taken in 2-month period of 400 patients, using the information of the 158 patients with complete records to predict the outcome (i.e. whether one has chronic kidney disease) of the remaining 242 patients (with missing values in their records).\n",
    "\n",
    "**Problem Statement :** Classify whether the patients have \"Classification\" column 'ckd' or 'notckd'. This means whether the patient has kidney disorder or not."
   ]
  },
  {
   "cell_type": "code",
   "execution_count": 1,
   "metadata": {
    "colab": {},
    "colab_type": "code",
    "id": "9M8NuB0wlFaF"
   },
   "outputs": [],
   "source": [
    "# Importing the dataset and libaries\n",
    "\n",
    "import pandas as pd\n",
    "import numpy as np\n",
    "import matplotlib.pyplot as plt"
   ]
  },
  {
   "cell_type": "code",
   "execution_count": 2,
   "metadata": {
    "colab": {},
    "colab_type": "code",
    "id": "c1e6a0Q6lFaM"
   },
   "outputs": [],
   "source": [
    "import seaborn as sns\n",
    "\n",
    "%matplotlib inline"
   ]
  },
  {
   "cell_type": "code",
   "execution_count": 3,
   "metadata": {
    "colab": {},
    "colab_type": "code",
    "id": "5izM2645lFaQ"
   },
   "outputs": [],
   "source": [
    "kidney_df = pd.read_csv('kidney_disease.csv')"
   ]
  },
  {
   "cell_type": "code",
   "execution_count": 4,
   "metadata": {
    "colab": {},
    "colab_type": "code",
    "id": "LB61_vjTlFaV",
    "outputId": "92307320-016e-43b5-828d-e6d5513d0ec5"
   },
   "outputs": [
    {
     "data": {
      "text/html": [
       "<div>\n",
       "<style scoped>\n",
       "    .dataframe tbody tr th:only-of-type {\n",
       "        vertical-align: middle;\n",
       "    }\n",
       "\n",
       "    .dataframe tbody tr th {\n",
       "        vertical-align: top;\n",
       "    }\n",
       "\n",
       "    .dataframe thead th {\n",
       "        text-align: right;\n",
       "    }\n",
       "</style>\n",
       "<table border=\"1\" class=\"dataframe\">\n",
       "  <thead>\n",
       "    <tr style=\"text-align: right;\">\n",
       "      <th></th>\n",
       "      <th>id</th>\n",
       "      <th>age</th>\n",
       "      <th>bp</th>\n",
       "      <th>sg</th>\n",
       "      <th>al</th>\n",
       "      <th>su</th>\n",
       "      <th>rbc</th>\n",
       "      <th>pc</th>\n",
       "      <th>pcc</th>\n",
       "      <th>ba</th>\n",
       "      <th>...</th>\n",
       "      <th>pcv</th>\n",
       "      <th>wc</th>\n",
       "      <th>rc</th>\n",
       "      <th>htn</th>\n",
       "      <th>dm</th>\n",
       "      <th>cad</th>\n",
       "      <th>appet</th>\n",
       "      <th>pe</th>\n",
       "      <th>ane</th>\n",
       "      <th>classification</th>\n",
       "    </tr>\n",
       "  </thead>\n",
       "  <tbody>\n",
       "    <tr>\n",
       "      <th>0</th>\n",
       "      <td>0</td>\n",
       "      <td>48.0</td>\n",
       "      <td>80.0</td>\n",
       "      <td>1.020</td>\n",
       "      <td>1.0</td>\n",
       "      <td>0.0</td>\n",
       "      <td>NaN</td>\n",
       "      <td>normal</td>\n",
       "      <td>notpresent</td>\n",
       "      <td>notpresent</td>\n",
       "      <td>...</td>\n",
       "      <td>44</td>\n",
       "      <td>7800</td>\n",
       "      <td>5.2</td>\n",
       "      <td>yes</td>\n",
       "      <td>yes</td>\n",
       "      <td>no</td>\n",
       "      <td>good</td>\n",
       "      <td>no</td>\n",
       "      <td>no</td>\n",
       "      <td>ckd</td>\n",
       "    </tr>\n",
       "    <tr>\n",
       "      <th>1</th>\n",
       "      <td>1</td>\n",
       "      <td>7.0</td>\n",
       "      <td>50.0</td>\n",
       "      <td>1.020</td>\n",
       "      <td>4.0</td>\n",
       "      <td>0.0</td>\n",
       "      <td>NaN</td>\n",
       "      <td>normal</td>\n",
       "      <td>notpresent</td>\n",
       "      <td>notpresent</td>\n",
       "      <td>...</td>\n",
       "      <td>38</td>\n",
       "      <td>6000</td>\n",
       "      <td>NaN</td>\n",
       "      <td>no</td>\n",
       "      <td>no</td>\n",
       "      <td>no</td>\n",
       "      <td>good</td>\n",
       "      <td>no</td>\n",
       "      <td>no</td>\n",
       "      <td>ckd</td>\n",
       "    </tr>\n",
       "    <tr>\n",
       "      <th>2</th>\n",
       "      <td>2</td>\n",
       "      <td>62.0</td>\n",
       "      <td>80.0</td>\n",
       "      <td>1.010</td>\n",
       "      <td>2.0</td>\n",
       "      <td>3.0</td>\n",
       "      <td>normal</td>\n",
       "      <td>normal</td>\n",
       "      <td>notpresent</td>\n",
       "      <td>notpresent</td>\n",
       "      <td>...</td>\n",
       "      <td>31</td>\n",
       "      <td>7500</td>\n",
       "      <td>NaN</td>\n",
       "      <td>no</td>\n",
       "      <td>yes</td>\n",
       "      <td>no</td>\n",
       "      <td>poor</td>\n",
       "      <td>no</td>\n",
       "      <td>yes</td>\n",
       "      <td>ckd</td>\n",
       "    </tr>\n",
       "    <tr>\n",
       "      <th>3</th>\n",
       "      <td>3</td>\n",
       "      <td>48.0</td>\n",
       "      <td>70.0</td>\n",
       "      <td>1.005</td>\n",
       "      <td>4.0</td>\n",
       "      <td>0.0</td>\n",
       "      <td>normal</td>\n",
       "      <td>abnormal</td>\n",
       "      <td>present</td>\n",
       "      <td>notpresent</td>\n",
       "      <td>...</td>\n",
       "      <td>32</td>\n",
       "      <td>6700</td>\n",
       "      <td>3.9</td>\n",
       "      <td>yes</td>\n",
       "      <td>no</td>\n",
       "      <td>no</td>\n",
       "      <td>poor</td>\n",
       "      <td>yes</td>\n",
       "      <td>yes</td>\n",
       "      <td>ckd</td>\n",
       "    </tr>\n",
       "    <tr>\n",
       "      <th>4</th>\n",
       "      <td>4</td>\n",
       "      <td>51.0</td>\n",
       "      <td>80.0</td>\n",
       "      <td>1.010</td>\n",
       "      <td>2.0</td>\n",
       "      <td>0.0</td>\n",
       "      <td>normal</td>\n",
       "      <td>normal</td>\n",
       "      <td>notpresent</td>\n",
       "      <td>notpresent</td>\n",
       "      <td>...</td>\n",
       "      <td>35</td>\n",
       "      <td>7300</td>\n",
       "      <td>4.6</td>\n",
       "      <td>no</td>\n",
       "      <td>no</td>\n",
       "      <td>no</td>\n",
       "      <td>good</td>\n",
       "      <td>no</td>\n",
       "      <td>no</td>\n",
       "      <td>ckd</td>\n",
       "    </tr>\n",
       "  </tbody>\n",
       "</table>\n",
       "<p>5 rows × 26 columns</p>\n",
       "</div>"
      ],
      "text/plain": [
       "   id   age    bp     sg   al   su     rbc        pc         pcc          ba  \\\n",
       "0   0  48.0  80.0  1.020  1.0  0.0     NaN    normal  notpresent  notpresent   \n",
       "1   1   7.0  50.0  1.020  4.0  0.0     NaN    normal  notpresent  notpresent   \n",
       "2   2  62.0  80.0  1.010  2.0  3.0  normal    normal  notpresent  notpresent   \n",
       "3   3  48.0  70.0  1.005  4.0  0.0  normal  abnormal     present  notpresent   \n",
       "4   4  51.0  80.0  1.010  2.0  0.0  normal    normal  notpresent  notpresent   \n",
       "\n",
       "   ...  pcv    wc   rc  htn   dm  cad appet   pe  ane classification  \n",
       "0  ...   44  7800  5.2  yes  yes   no  good   no   no            ckd  \n",
       "1  ...   38  6000  NaN   no   no   no  good   no   no            ckd  \n",
       "2  ...   31  7500  NaN   no  yes   no  poor   no  yes            ckd  \n",
       "3  ...   32  6700  3.9  yes   no   no  poor  yes  yes            ckd  \n",
       "4  ...   35  7300  4.6   no   no   no  good   no   no            ckd  \n",
       "\n",
       "[5 rows x 26 columns]"
      ]
     },
     "execution_count": 4,
     "metadata": {},
     "output_type": "execute_result"
    }
   ],
   "source": [
    "kidney_df.head()"
   ]
  },
  {
   "cell_type": "markdown",
   "metadata": {
    "colab_type": "text",
    "id": "9IIB083blFad"
   },
   "source": [
    "** There are 26 columns **"
   ]
  },
  {
   "cell_type": "code",
   "execution_count": 5,
   "metadata": {
    "colab": {},
    "colab_type": "code",
    "id": "xDzW13I1lFae",
    "outputId": "ce960136-4078-4b3a-b4aa-1c61c12c96a1"
   },
   "outputs": [
    {
     "name": "stdout",
     "output_type": "stream",
     "text": [
      "<class 'pandas.core.frame.DataFrame'>\n",
      "RangeIndex: 400 entries, 0 to 399\n",
      "Data columns (total 26 columns):\n",
      "id                400 non-null int64\n",
      "age               391 non-null float64\n",
      "bp                388 non-null float64\n",
      "sg                353 non-null float64\n",
      "al                354 non-null float64\n",
      "su                351 non-null float64\n",
      "rbc               248 non-null object\n",
      "pc                335 non-null object\n",
      "pcc               396 non-null object\n",
      "ba                396 non-null object\n",
      "bgr               356 non-null float64\n",
      "bu                381 non-null float64\n",
      "sc                383 non-null float64\n",
      "sod               313 non-null float64\n",
      "pot               312 non-null float64\n",
      "hemo              348 non-null float64\n",
      "pcv               330 non-null object\n",
      "wc                295 non-null object\n",
      "rc                270 non-null object\n",
      "htn               398 non-null object\n",
      "dm                398 non-null object\n",
      "cad               398 non-null object\n",
      "appet             399 non-null object\n",
      "pe                399 non-null object\n",
      "ane               399 non-null object\n",
      "classification    400 non-null object\n",
      "dtypes: float64(11), int64(1), object(14)\n",
      "memory usage: 81.3+ KB\n"
     ]
    }
   ],
   "source": [
    "kidney_df.info()"
   ]
  },
  {
   "cell_type": "code",
   "execution_count": 6,
   "metadata": {},
   "outputs": [
    {
     "data": {
      "image/png": "[encoded data removed]",
      "text/plain": [
       "<Figure size 2160x2160 with 2 Axes>"
      ]
     },
     "metadata": {
      "needs_background": "light"
     },
     "output_type": "display_data"
    }
   ],
   "source": [
    "corr = kidney_df.corr()\n",
    "plt.subplots(figsize=(30,30))\n",
    "sns.heatmap(corr, cmap='YlGnBu', annot=True)\n",
    "plt.show()"
   ]
  },
  {
   "cell_type": "markdown",
   "metadata": {
    "colab_type": "text",
    "id": "pFMvTB-YlFak"
   },
   "source": [
    "## Perform feature engineering on the columns to remove all the categorical columns and object datatype columns"
   ]
  },
  {
   "cell_type": "code",
   "execution_count": 7,
   "metadata": {
    "colab": {},
    "colab_type": "code",
    "id": "HVP2ChQKlFan",
    "outputId": "d3616c09-b2f9-428b-d161-b8fb56559837"
   },
   "outputs": [
    {
     "data": {
      "text/plain": [
       "Index(['id', 'age', 'bp', 'sg', 'al', 'su', 'rbc', 'pc', 'pcc', 'ba', 'bgr',\n",
       "       'bu', 'sc', 'sod', 'pot', 'hemo', 'pcv', 'wc', 'rc', 'htn', 'dm', 'cad',\n",
       "       'appet', 'pe', 'ane', 'classification'],\n",
       "      dtype='object')"
      ]
     },
     "execution_count": 7,
     "metadata": {},
     "output_type": "execute_result"
    }
   ],
   "source": [
    "kidney_df.columns"
   ]
  },
  {
   "cell_type": "markdown",
   "metadata": {
    "colab_type": "text",
    "id": "6ZRHRq2wlFal"
   },
   "source": [
    "** There are a lot of object data types. We need to convert them to numeric before any further processing **"
   ]
  },
  {
   "cell_type": "markdown",
   "metadata": {
    "colab_type": "text",
    "id": "wg2d02PnlFas"
   },
   "source": [
    "** These columns have numerical values but have object dtype **"
   ]
  },
  {
   "cell_type": "code",
   "execution_count": 8,
   "metadata": {
    "colab": {},
    "colab_type": "code",
    "id": "A4W247P8lFau"
   },
   "outputs": [],
   "source": [
    "#These columns have \\t? values\n",
    "\n",
    "kidney_df.drop(kidney_df.index[[66,214,185, 133, 162]], inplace=True)"
   ]
  },
  {
   "cell_type": "code",
   "execution_count": 9,
   "metadata": {
    "colab": {},
    "colab_type": "code",
    "id": "mM_z86FNlFay"
   },
   "outputs": [],
   "source": [
    "kidney_df[['pcv','wc','rc']] = kidney_df[['pcv','wc','rc']].apply(pd.to_numeric)"
   ]
  },
  {
   "cell_type": "markdown",
   "metadata": {
    "colab_type": "text",
    "id": "1vZ9wybLlFa3"
   },
   "source": [
    "** These columns are categorical **"
   ]
  },
  {
   "cell_type": "code",
   "execution_count": 10,
   "metadata": {
    "colab": {},
    "colab_type": "code",
    "id": "YciD_H0olFa4"
   },
   "outputs": [],
   "source": [
    "kidney_df[['htn','dm','cad','pe','ane']] = kidney_df[['htn','dm','cad','pe','ane']].replace(to_replace={'yes':1,'no':0})\n",
    "kidney_df['dm'] = kidney_df['dm'].replace(to_replace={'\\tno':0,'\\tyes':1,' yes':1, '':np.nan})\n",
    "kidney_df['cad'] = kidney_df['cad'].replace(to_replace='\\tno',value=0)\n",
    "\n",
    "kidney_df[['rbc','pc']] = kidney_df[['rbc','pc']].replace(to_replace={'abnormal':1,'normal':0})\n",
    "kidney_df[['pcc','ba']] = kidney_df[['pcc','ba']].replace(to_replace={'present':1,'notpresent':0})\n",
    "\n",
    "kidney_df[['appet']] = kidney_df[['appet']].replace(to_replace={'good':1,'poor':0})  #,'no':np.nan\n",
    "kidney_df['classification'] = kidney_df['classification'].replace(to_replace={'ckd':1.0,'ckd\\t':1.0,'notckd':0.0})  #,'no':0.0\n",
    "kidney_df.rename(columns={'classification':'class'},inplace=True)"
   ]
  },
  {
   "cell_type": "code",
   "execution_count": 11,
   "metadata": {
    "colab": {},
    "colab_type": "code",
    "id": "Nt7NB7BIlFa8"
   },
   "outputs": [],
   "source": [
    "kidney_df['pe'] = kidney_df['pe'].replace(to_replace='good',value=0) # Not having pedal edema is good\n",
    "kidney_df['appet'] = kidney_df['appet'].replace(to_replace='no',value=0)\n",
    "\n",
    "# Dropping the index column\n",
    "kidney_df.drop('id',axis=1,inplace=True)"
   ]
  },
  {
   "cell_type": "code",
   "execution_count": 12,
   "metadata": {
    "colab": {},
    "colab_type": "code",
    "id": "0ULSRjcqlFbB",
    "outputId": "c8b5aa69-0858-4bc7-dc6a-72d26b231c02"
   },
   "outputs": [
    {
     "name": "stdout",
     "output_type": "stream",
     "text": [
      "<class 'pandas.core.frame.DataFrame'>\n",
      "Int64Index: 395 entries, 0 to 399\n",
      "Data columns (total 25 columns):\n",
      "age      386 non-null float64\n",
      "bp       384 non-null float64\n",
      "sg       349 non-null float64\n",
      "al       350 non-null float64\n",
      "su       347 non-null float64\n",
      "rbc      246 non-null float64\n",
      "pc       331 non-null float64\n",
      "pcc      391 non-null float64\n",
      "ba       391 non-null float64\n",
      "bgr      351 non-null float64\n",
      "bu       376 non-null float64\n",
      "sc       378 non-null float64\n",
      "sod      309 non-null float64\n",
      "pot      308 non-null float64\n",
      "hemo     344 non-null float64\n",
      "pcv      325 non-null float64\n",
      "wc       291 non-null float64\n",
      "rc       267 non-null float64\n",
      "htn      393 non-null float64\n",
      "dm       393 non-null object\n",
      "cad      393 non-null float64\n",
      "appet    394 non-null float64\n",
      "pe       394 non-null float64\n",
      "ane      394 non-null float64\n",
      "class    395 non-null float64\n",
      "dtypes: float64(24), object(1)\n",
      "memory usage: 80.2+ KB\n"
     ]
    }
   ],
   "source": [
    "kidney_df.info()"
   ]
  },
  {
   "cell_type": "markdown",
   "metadata": {
    "colab_type": "text",
    "id": "1l_c9bbalFbH"
   },
   "source": [
    "** Now we have converted all the object columns in float64 **"
   ]
  },
  {
   "cell_type": "markdown",
   "metadata": {
    "colab_type": "text",
    "id": "Ub9Aw9lvlFbI"
   },
   "source": [
    "##  Removing missing values from the data frame"
   ]
  },
  {
   "cell_type": "code",
   "execution_count": 13,
   "metadata": {},
   "outputs": [
    {
     "data": {
      "text/plain": [
       "age        9\n",
       "bp        11\n",
       "sg        46\n",
       "al        45\n",
       "su        48\n",
       "rbc      149\n",
       "pc        64\n",
       "pcc        4\n",
       "ba         4\n",
       "bgr       44\n",
       "bu        19\n",
       "sc        17\n",
       "sod       86\n",
       "pot       87\n",
       "hemo      51\n",
       "pcv       70\n",
       "wc       104\n",
       "rc       128\n",
       "htn        2\n",
       "dm         2\n",
       "cad        2\n",
       "appet      1\n",
       "pe         1\n",
       "ane        1\n",
       "class      0\n",
       "dtype: int64"
      ]
     },
     "execution_count": 13,
     "metadata": {},
     "output_type": "execute_result"
    }
   ],
   "source": [
    "kidney_df.isnull().sum()\n"
   ]
  },
  {
   "cell_type": "markdown",
   "metadata": {},
   "source": [
    "Columns such as rbc, wc and rc have high missing values. Hence we will drop them from the df and fill the rest with the column mean value"
   ]
  },
  {
   "cell_type": "code",
   "execution_count": 14,
   "metadata": {},
   "outputs": [],
   "source": [
    " kidney_df.drop(['rbc', 'wc', 'rc'], axis=1, inplace=True)"
   ]
  },
  {
   "cell_type": "code",
   "execution_count": 15,
   "metadata": {},
   "outputs": [],
   "source": [
    "kidney_df = kidney_df.fillna(kidney_df.mean())"
   ]
  },
  {
   "cell_type": "code",
   "execution_count": 16,
   "metadata": {},
   "outputs": [
    {
     "name": "stdout",
     "output_type": "stream",
     "text": [
      "<class 'pandas.core.frame.DataFrame'>\n",
      "Int64Index: 395 entries, 0 to 399\n",
      "Data columns (total 22 columns):\n",
      "age      395 non-null float64\n",
      "bp       395 non-null float64\n",
      "sg       395 non-null float64\n",
      "al       395 non-null float64\n",
      "su       395 non-null float64\n",
      "pc       395 non-null float64\n",
      "pcc      395 non-null float64\n",
      "ba       395 non-null float64\n",
      "bgr      395 non-null float64\n",
      "bu       395 non-null float64\n",
      "sc       395 non-null float64\n",
      "sod      395 non-null float64\n",
      "pot      395 non-null float64\n",
      "hemo     395 non-null float64\n",
      "pcv      395 non-null float64\n",
      "htn      395 non-null float64\n",
      "dm       395 non-null float64\n",
      "cad      395 non-null float64\n",
      "appet    395 non-null float64\n",
      "pe       395 non-null float64\n",
      "ane      395 non-null float64\n",
      "class    395 non-null float64\n",
      "dtypes: float64(22)\n",
      "memory usage: 71.0 KB\n"
     ]
    }
   ],
   "source": [
    "kidney_df.info()"
   ]
  },
  {
   "cell_type": "code",
   "execution_count": 17,
   "metadata": {},
   "outputs": [
    {
     "data": {
      "text/html": [
       "<div>\n",
       "<style scoped>\n",
       "    .dataframe tbody tr th:only-of-type {\n",
       "        vertical-align: middle;\n",
       "    }\n",
       "\n",
       "    .dataframe tbody tr th {\n",
       "        vertical-align: top;\n",
       "    }\n",
       "\n",
       "    .dataframe thead th {\n",
       "        text-align: right;\n",
       "    }\n",
       "</style>\n",
       "<table border=\"1\" class=\"dataframe\">\n",
       "  <thead>\n",
       "    <tr style=\"text-align: right;\">\n",
       "      <th></th>\n",
       "      <th>age</th>\n",
       "      <th>bp</th>\n",
       "      <th>sg</th>\n",
       "      <th>al</th>\n",
       "      <th>su</th>\n",
       "      <th>pc</th>\n",
       "      <th>pcc</th>\n",
       "      <th>ba</th>\n",
       "      <th>bgr</th>\n",
       "      <th>bu</th>\n",
       "      <th>...</th>\n",
       "      <th>pot</th>\n",
       "      <th>hemo</th>\n",
       "      <th>pcv</th>\n",
       "      <th>htn</th>\n",
       "      <th>dm</th>\n",
       "      <th>cad</th>\n",
       "      <th>appet</th>\n",
       "      <th>pe</th>\n",
       "      <th>ane</th>\n",
       "      <th>class</th>\n",
       "    </tr>\n",
       "  </thead>\n",
       "  <tbody>\n",
       "    <tr>\n",
       "      <th>0</th>\n",
       "      <td>48.0</td>\n",
       "      <td>80.0</td>\n",
       "      <td>1.020</td>\n",
       "      <td>1.0</td>\n",
       "      <td>0.0</td>\n",
       "      <td>0.0</td>\n",
       "      <td>0.0</td>\n",
       "      <td>0.0</td>\n",
       "      <td>121.000000</td>\n",
       "      <td>36.0</td>\n",
       "      <td>...</td>\n",
       "      <td>4.628247</td>\n",
       "      <td>15.4</td>\n",
       "      <td>44.0</td>\n",
       "      <td>1.0</td>\n",
       "      <td>1.0</td>\n",
       "      <td>0.0</td>\n",
       "      <td>1.0</td>\n",
       "      <td>0.0</td>\n",
       "      <td>0.0</td>\n",
       "      <td>1.0</td>\n",
       "    </tr>\n",
       "    <tr>\n",
       "      <th>1</th>\n",
       "      <td>7.0</td>\n",
       "      <td>50.0</td>\n",
       "      <td>1.020</td>\n",
       "      <td>4.0</td>\n",
       "      <td>0.0</td>\n",
       "      <td>0.0</td>\n",
       "      <td>0.0</td>\n",
       "      <td>0.0</td>\n",
       "      <td>148.031339</td>\n",
       "      <td>18.0</td>\n",
       "      <td>...</td>\n",
       "      <td>4.628247</td>\n",
       "      <td>11.3</td>\n",
       "      <td>38.0</td>\n",
       "      <td>0.0</td>\n",
       "      <td>0.0</td>\n",
       "      <td>0.0</td>\n",
       "      <td>1.0</td>\n",
       "      <td>0.0</td>\n",
       "      <td>0.0</td>\n",
       "      <td>1.0</td>\n",
       "    </tr>\n",
       "    <tr>\n",
       "      <th>2</th>\n",
       "      <td>62.0</td>\n",
       "      <td>80.0</td>\n",
       "      <td>1.010</td>\n",
       "      <td>2.0</td>\n",
       "      <td>3.0</td>\n",
       "      <td>0.0</td>\n",
       "      <td>0.0</td>\n",
       "      <td>0.0</td>\n",
       "      <td>423.000000</td>\n",
       "      <td>53.0</td>\n",
       "      <td>...</td>\n",
       "      <td>4.628247</td>\n",
       "      <td>9.6</td>\n",
       "      <td>31.0</td>\n",
       "      <td>0.0</td>\n",
       "      <td>1.0</td>\n",
       "      <td>0.0</td>\n",
       "      <td>0.0</td>\n",
       "      <td>0.0</td>\n",
       "      <td>1.0</td>\n",
       "      <td>1.0</td>\n",
       "    </tr>\n",
       "    <tr>\n",
       "      <th>3</th>\n",
       "      <td>48.0</td>\n",
       "      <td>70.0</td>\n",
       "      <td>1.005</td>\n",
       "      <td>4.0</td>\n",
       "      <td>0.0</td>\n",
       "      <td>1.0</td>\n",
       "      <td>1.0</td>\n",
       "      <td>0.0</td>\n",
       "      <td>117.000000</td>\n",
       "      <td>56.0</td>\n",
       "      <td>...</td>\n",
       "      <td>2.500000</td>\n",
       "      <td>11.2</td>\n",
       "      <td>32.0</td>\n",
       "      <td>1.0</td>\n",
       "      <td>0.0</td>\n",
       "      <td>0.0</td>\n",
       "      <td>0.0</td>\n",
       "      <td>1.0</td>\n",
       "      <td>1.0</td>\n",
       "      <td>1.0</td>\n",
       "    </tr>\n",
       "    <tr>\n",
       "      <th>4</th>\n",
       "      <td>51.0</td>\n",
       "      <td>80.0</td>\n",
       "      <td>1.010</td>\n",
       "      <td>2.0</td>\n",
       "      <td>0.0</td>\n",
       "      <td>0.0</td>\n",
       "      <td>0.0</td>\n",
       "      <td>0.0</td>\n",
       "      <td>106.000000</td>\n",
       "      <td>26.0</td>\n",
       "      <td>...</td>\n",
       "      <td>4.628247</td>\n",
       "      <td>11.6</td>\n",
       "      <td>35.0</td>\n",
       "      <td>0.0</td>\n",
       "      <td>0.0</td>\n",
       "      <td>0.0</td>\n",
       "      <td>1.0</td>\n",
       "      <td>0.0</td>\n",
       "      <td>0.0</td>\n",
       "      <td>1.0</td>\n",
       "    </tr>\n",
       "  </tbody>\n",
       "</table>\n",
       "<p>5 rows × 22 columns</p>\n",
       "</div>"
      ],
      "text/plain": [
       "    age    bp     sg   al   su   pc  pcc   ba         bgr    bu  ...  \\\n",
       "0  48.0  80.0  1.020  1.0  0.0  0.0  0.0  0.0  121.000000  36.0  ...   \n",
       "1   7.0  50.0  1.020  4.0  0.0  0.0  0.0  0.0  148.031339  18.0  ...   \n",
       "2  62.0  80.0  1.010  2.0  3.0  0.0  0.0  0.0  423.000000  53.0  ...   \n",
       "3  48.0  70.0  1.005  4.0  0.0  1.0  1.0  0.0  117.000000  56.0  ...   \n",
       "4  51.0  80.0  1.010  2.0  0.0  0.0  0.0  0.0  106.000000  26.0  ...   \n",
       "\n",
       "        pot  hemo   pcv  htn   dm  cad  appet   pe  ane  class  \n",
       "0  4.628247  15.4  44.0  1.0  1.0  0.0    1.0  0.0  0.0    1.0  \n",
       "1  4.628247  11.3  38.0  0.0  0.0  0.0    1.0  0.0  0.0    1.0  \n",
       "2  4.628247   9.6  31.0  0.0  1.0  0.0    0.0  0.0  1.0    1.0  \n",
       "3  2.500000  11.2  32.0  1.0  0.0  0.0    0.0  1.0  1.0    1.0  \n",
       "4  4.628247  11.6  35.0  0.0  0.0  0.0    1.0  0.0  0.0    1.0  \n",
       "\n",
       "[5 rows x 22 columns]"
      ]
     },
     "execution_count": 17,
     "metadata": {},
     "output_type": "execute_result"
    }
   ],
   "source": [
    "kidney_df.head()"
   ]
  },
  {
   "cell_type": "code",
   "execution_count": 18,
   "metadata": {},
   "outputs": [
    {
     "data": {
      "text/html": [
       "<div>\n",
       "<style scoped>\n",
       "    .dataframe tbody tr th:only-of-type {\n",
       "        vertical-align: middle;\n",
       "    }\n",
       "\n",
       "    .dataframe tbody tr th {\n",
       "        vertical-align: top;\n",
       "    }\n",
       "\n",
       "    .dataframe thead th {\n",
       "        text-align: right;\n",
       "    }\n",
       "</style>\n",
       "<table border=\"1\" class=\"dataframe\">\n",
       "  <thead>\n",
       "    <tr style=\"text-align: right;\">\n",
       "      <th></th>\n",
       "      <th>age</th>\n",
       "      <th>bp</th>\n",
       "      <th>sg</th>\n",
       "      <th>al</th>\n",
       "      <th>su</th>\n",
       "      <th>pc</th>\n",
       "      <th>pcc</th>\n",
       "      <th>ba</th>\n",
       "      <th>bgr</th>\n",
       "      <th>bu</th>\n",
       "      <th>...</th>\n",
       "      <th>pot</th>\n",
       "      <th>hemo</th>\n",
       "      <th>pcv</th>\n",
       "      <th>htn</th>\n",
       "      <th>dm</th>\n",
       "      <th>cad</th>\n",
       "      <th>appet</th>\n",
       "      <th>pe</th>\n",
       "      <th>ane</th>\n",
       "      <th>class</th>\n",
       "    </tr>\n",
       "  </thead>\n",
       "  <tbody>\n",
       "    <tr>\n",
       "      <th>395</th>\n",
       "      <td>55.0</td>\n",
       "      <td>80.0</td>\n",
       "      <td>1.020</td>\n",
       "      <td>0.0</td>\n",
       "      <td>0.0</td>\n",
       "      <td>0.0</td>\n",
       "      <td>0.0</td>\n",
       "      <td>0.0</td>\n",
       "      <td>140.0</td>\n",
       "      <td>49.0</td>\n",
       "      <td>...</td>\n",
       "      <td>4.9</td>\n",
       "      <td>15.7</td>\n",
       "      <td>47.0</td>\n",
       "      <td>0.0</td>\n",
       "      <td>0.0</td>\n",
       "      <td>0.0</td>\n",
       "      <td>1.0</td>\n",
       "      <td>0.0</td>\n",
       "      <td>0.0</td>\n",
       "      <td>0.0</td>\n",
       "    </tr>\n",
       "    <tr>\n",
       "      <th>396</th>\n",
       "      <td>42.0</td>\n",
       "      <td>70.0</td>\n",
       "      <td>1.025</td>\n",
       "      <td>0.0</td>\n",
       "      <td>0.0</td>\n",
       "      <td>0.0</td>\n",
       "      <td>0.0</td>\n",
       "      <td>0.0</td>\n",
       "      <td>75.0</td>\n",
       "      <td>31.0</td>\n",
       "      <td>...</td>\n",
       "      <td>3.5</td>\n",
       "      <td>16.5</td>\n",
       "      <td>54.0</td>\n",
       "      <td>0.0</td>\n",
       "      <td>0.0</td>\n",
       "      <td>0.0</td>\n",
       "      <td>1.0</td>\n",
       "      <td>0.0</td>\n",
       "      <td>0.0</td>\n",
       "      <td>0.0</td>\n",
       "    </tr>\n",
       "    <tr>\n",
       "      <th>397</th>\n",
       "      <td>12.0</td>\n",
       "      <td>80.0</td>\n",
       "      <td>1.020</td>\n",
       "      <td>0.0</td>\n",
       "      <td>0.0</td>\n",
       "      <td>0.0</td>\n",
       "      <td>0.0</td>\n",
       "      <td>0.0</td>\n",
       "      <td>100.0</td>\n",
       "      <td>26.0</td>\n",
       "      <td>...</td>\n",
       "      <td>4.4</td>\n",
       "      <td>15.8</td>\n",
       "      <td>49.0</td>\n",
       "      <td>0.0</td>\n",
       "      <td>0.0</td>\n",
       "      <td>0.0</td>\n",
       "      <td>1.0</td>\n",
       "      <td>0.0</td>\n",
       "      <td>0.0</td>\n",
       "      <td>0.0</td>\n",
       "    </tr>\n",
       "    <tr>\n",
       "      <th>398</th>\n",
       "      <td>17.0</td>\n",
       "      <td>60.0</td>\n",
       "      <td>1.025</td>\n",
       "      <td>0.0</td>\n",
       "      <td>0.0</td>\n",
       "      <td>0.0</td>\n",
       "      <td>0.0</td>\n",
       "      <td>0.0</td>\n",
       "      <td>114.0</td>\n",
       "      <td>50.0</td>\n",
       "      <td>...</td>\n",
       "      <td>4.9</td>\n",
       "      <td>14.2</td>\n",
       "      <td>51.0</td>\n",
       "      <td>0.0</td>\n",
       "      <td>0.0</td>\n",
       "      <td>0.0</td>\n",
       "      <td>1.0</td>\n",
       "      <td>0.0</td>\n",
       "      <td>0.0</td>\n",
       "      <td>0.0</td>\n",
       "    </tr>\n",
       "    <tr>\n",
       "      <th>399</th>\n",
       "      <td>58.0</td>\n",
       "      <td>80.0</td>\n",
       "      <td>1.025</td>\n",
       "      <td>0.0</td>\n",
       "      <td>0.0</td>\n",
       "      <td>0.0</td>\n",
       "      <td>0.0</td>\n",
       "      <td>0.0</td>\n",
       "      <td>131.0</td>\n",
       "      <td>18.0</td>\n",
       "      <td>...</td>\n",
       "      <td>3.5</td>\n",
       "      <td>15.8</td>\n",
       "      <td>53.0</td>\n",
       "      <td>0.0</td>\n",
       "      <td>0.0</td>\n",
       "      <td>0.0</td>\n",
       "      <td>1.0</td>\n",
       "      <td>0.0</td>\n",
       "      <td>0.0</td>\n",
       "      <td>0.0</td>\n",
       "    </tr>\n",
       "  </tbody>\n",
       "</table>\n",
       "<p>5 rows × 22 columns</p>\n",
       "</div>"
      ],
      "text/plain": [
       "      age    bp     sg   al   su   pc  pcc   ba    bgr    bu  ...  pot  hemo  \\\n",
       "395  55.0  80.0  1.020  0.0  0.0  0.0  0.0  0.0  140.0  49.0  ...  4.9  15.7   \n",
       "396  42.0  70.0  1.025  0.0  0.0  0.0  0.0  0.0   75.0  31.0  ...  3.5  16.5   \n",
       "397  12.0  80.0  1.020  0.0  0.0  0.0  0.0  0.0  100.0  26.0  ...  4.4  15.8   \n",
       "398  17.0  60.0  1.025  0.0  0.0  0.0  0.0  0.0  114.0  50.0  ...  4.9  14.2   \n",
       "399  58.0  80.0  1.025  0.0  0.0  0.0  0.0  0.0  131.0  18.0  ...  3.5  15.8   \n",
       "\n",
       "      pcv  htn   dm  cad  appet   pe  ane  class  \n",
       "395  47.0  0.0  0.0  0.0    1.0  0.0  0.0    0.0  \n",
       "396  54.0  0.0  0.0  0.0    1.0  0.0  0.0    0.0  \n",
       "397  49.0  0.0  0.0  0.0    1.0  0.0  0.0    0.0  \n",
       "398  51.0  0.0  0.0  0.0    1.0  0.0  0.0    0.0  \n",
       "399  53.0  0.0  0.0  0.0    1.0  0.0  0.0    0.0  \n",
       "\n",
       "[5 rows x 22 columns]"
      ]
     },
     "execution_count": 18,
     "metadata": {},
     "output_type": "execute_result"
    }
   ],
   "source": [
    "kidney_df.tail()"
   ]
  },
  {
   "cell_type": "markdown",
   "metadata": {
    "colab_type": "text",
    "id": "Fc5xA3DLlFbh"
   },
   "source": [
    "## Descriptive stats"
   ]
  },
  {
   "cell_type": "code",
   "execution_count": 19,
   "metadata": {
    "scrolled": true
   },
   "outputs": [
    {
     "data": {
      "text/html": [
       "<div>\n",
       "<style scoped>\n",
       "    .dataframe tbody tr th:only-of-type {\n",
       "        vertical-align: middle;\n",
       "    }\n",
       "\n",
       "    .dataframe tbody tr th {\n",
       "        vertical-align: top;\n",
       "    }\n",
       "\n",
       "    .dataframe thead th {\n",
       "        text-align: right;\n",
       "    }\n",
       "</style>\n",
       "<table border=\"1\" class=\"dataframe\">\n",
       "  <thead>\n",
       "    <tr style=\"text-align: right;\">\n",
       "      <th></th>\n",
       "      <th>age</th>\n",
       "      <th>bp</th>\n",
       "      <th>sg</th>\n",
       "      <th>al</th>\n",
       "      <th>su</th>\n",
       "      <th>pc</th>\n",
       "      <th>pcc</th>\n",
       "      <th>ba</th>\n",
       "      <th>bgr</th>\n",
       "      <th>bu</th>\n",
       "      <th>...</th>\n",
       "      <th>pot</th>\n",
       "      <th>hemo</th>\n",
       "      <th>pcv</th>\n",
       "      <th>htn</th>\n",
       "      <th>dm</th>\n",
       "      <th>cad</th>\n",
       "      <th>appet</th>\n",
       "      <th>pe</th>\n",
       "      <th>ane</th>\n",
       "      <th>class</th>\n",
       "    </tr>\n",
       "  </thead>\n",
       "  <tbody>\n",
       "    <tr>\n",
       "      <th>count</th>\n",
       "      <td>395.000000</td>\n",
       "      <td>395.000000</td>\n",
       "      <td>395.000000</td>\n",
       "      <td>395.000000</td>\n",
       "      <td>395.000000</td>\n",
       "      <td>395.000000</td>\n",
       "      <td>395.000000</td>\n",
       "      <td>395.000000</td>\n",
       "      <td>395.000000</td>\n",
       "      <td>395.000000</td>\n",
       "      <td>...</td>\n",
       "      <td>395.000000</td>\n",
       "      <td>395.000000</td>\n",
       "      <td>395.000000</td>\n",
       "      <td>395.000000</td>\n",
       "      <td>395.000000</td>\n",
       "      <td>395.000000</td>\n",
       "      <td>395.000000</td>\n",
       "      <td>395.000000</td>\n",
       "      <td>395.000000</td>\n",
       "      <td>395.000000</td>\n",
       "    </tr>\n",
       "    <tr>\n",
       "      <th>mean</th>\n",
       "      <td>51.455959</td>\n",
       "      <td>76.432292</td>\n",
       "      <td>1.017407</td>\n",
       "      <td>1.008571</td>\n",
       "      <td>0.455331</td>\n",
       "      <td>0.226586</td>\n",
       "      <td>0.107417</td>\n",
       "      <td>0.056266</td>\n",
       "      <td>148.031339</td>\n",
       "      <td>57.479255</td>\n",
       "      <td>...</td>\n",
       "      <td>4.628247</td>\n",
       "      <td>12.534012</td>\n",
       "      <td>38.898462</td>\n",
       "      <td>0.368957</td>\n",
       "      <td>0.340967</td>\n",
       "      <td>0.086514</td>\n",
       "      <td>0.791878</td>\n",
       "      <td>0.190355</td>\n",
       "      <td>0.152284</td>\n",
       "      <td>0.620253</td>\n",
       "    </tr>\n",
       "    <tr>\n",
       "      <th>std</th>\n",
       "      <td>16.845351</td>\n",
       "      <td>13.500540</td>\n",
       "      <td>0.005397</td>\n",
       "      <td>1.269492</td>\n",
       "      <td>1.034994</td>\n",
       "      <td>0.383697</td>\n",
       "      <td>0.308461</td>\n",
       "      <td>0.229556</td>\n",
       "      <td>75.138023</td>\n",
       "      <td>49.416675</td>\n",
       "      <td>...</td>\n",
       "      <td>2.837424</td>\n",
       "      <td>2.728991</td>\n",
       "      <td>8.195215</td>\n",
       "      <td>0.481909</td>\n",
       "      <td>0.473432</td>\n",
       "      <td>0.280765</td>\n",
       "      <td>0.405964</td>\n",
       "      <td>0.392581</td>\n",
       "      <td>0.359296</td>\n",
       "      <td>0.485939</td>\n",
       "    </tr>\n",
       "    <tr>\n",
       "      <th>min</th>\n",
       "      <td>2.000000</td>\n",
       "      <td>50.000000</td>\n",
       "      <td>1.005000</td>\n",
       "      <td>0.000000</td>\n",
       "      <td>0.000000</td>\n",
       "      <td>0.000000</td>\n",
       "      <td>0.000000</td>\n",
       "      <td>0.000000</td>\n",
       "      <td>22.000000</td>\n",
       "      <td>1.500000</td>\n",
       "      <td>...</td>\n",
       "      <td>2.500000</td>\n",
       "      <td>3.100000</td>\n",
       "      <td>9.000000</td>\n",
       "      <td>0.000000</td>\n",
       "      <td>0.000000</td>\n",
       "      <td>0.000000</td>\n",
       "      <td>0.000000</td>\n",
       "      <td>0.000000</td>\n",
       "      <td>0.000000</td>\n",
       "      <td>0.000000</td>\n",
       "    </tr>\n",
       "    <tr>\n",
       "      <th>25%</th>\n",
       "      <td>42.000000</td>\n",
       "      <td>70.000000</td>\n",
       "      <td>1.015000</td>\n",
       "      <td>0.000000</td>\n",
       "      <td>0.000000</td>\n",
       "      <td>0.000000</td>\n",
       "      <td>0.000000</td>\n",
       "      <td>0.000000</td>\n",
       "      <td>101.000000</td>\n",
       "      <td>27.000000</td>\n",
       "      <td>...</td>\n",
       "      <td>4.000000</td>\n",
       "      <td>10.850000</td>\n",
       "      <td>34.000000</td>\n",
       "      <td>0.000000</td>\n",
       "      <td>0.000000</td>\n",
       "      <td>0.000000</td>\n",
       "      <td>1.000000</td>\n",
       "      <td>0.000000</td>\n",
       "      <td>0.000000</td>\n",
       "      <td>0.000000</td>\n",
       "    </tr>\n",
       "    <tr>\n",
       "      <th>50%</th>\n",
       "      <td>54.000000</td>\n",
       "      <td>80.000000</td>\n",
       "      <td>1.017407</td>\n",
       "      <td>0.000000</td>\n",
       "      <td>0.000000</td>\n",
       "      <td>0.000000</td>\n",
       "      <td>0.000000</td>\n",
       "      <td>0.000000</td>\n",
       "      <td>125.000000</td>\n",
       "      <td>44.000000</td>\n",
       "      <td>...</td>\n",
       "      <td>4.628247</td>\n",
       "      <td>12.534012</td>\n",
       "      <td>38.898462</td>\n",
       "      <td>0.000000</td>\n",
       "      <td>0.000000</td>\n",
       "      <td>0.000000</td>\n",
       "      <td>1.000000</td>\n",
       "      <td>0.000000</td>\n",
       "      <td>0.000000</td>\n",
       "      <td>1.000000</td>\n",
       "    </tr>\n",
       "    <tr>\n",
       "      <th>75%</th>\n",
       "      <td>64.000000</td>\n",
       "      <td>80.000000</td>\n",
       "      <td>1.020000</td>\n",
       "      <td>2.000000</td>\n",
       "      <td>0.455331</td>\n",
       "      <td>0.226586</td>\n",
       "      <td>0.000000</td>\n",
       "      <td>0.000000</td>\n",
       "      <td>149.015670</td>\n",
       "      <td>62.500000</td>\n",
       "      <td>...</td>\n",
       "      <td>4.800000</td>\n",
       "      <td>14.700000</td>\n",
       "      <td>44.000000</td>\n",
       "      <td>1.000000</td>\n",
       "      <td>1.000000</td>\n",
       "      <td>0.000000</td>\n",
       "      <td>1.000000</td>\n",
       "      <td>0.000000</td>\n",
       "      <td>0.000000</td>\n",
       "      <td>1.000000</td>\n",
       "    </tr>\n",
       "    <tr>\n",
       "      <th>max</th>\n",
       "      <td>90.000000</td>\n",
       "      <td>180.000000</td>\n",
       "      <td>1.025000</td>\n",
       "      <td>5.000000</td>\n",
       "      <td>5.000000</td>\n",
       "      <td>1.000000</td>\n",
       "      <td>1.000000</td>\n",
       "      <td>1.000000</td>\n",
       "      <td>490.000000</td>\n",
       "      <td>391.000000</td>\n",
       "      <td>...</td>\n",
       "      <td>47.000000</td>\n",
       "      <td>17.800000</td>\n",
       "      <td>54.000000</td>\n",
       "      <td>1.000000</td>\n",
       "      <td>1.000000</td>\n",
       "      <td>1.000000</td>\n",
       "      <td>1.000000</td>\n",
       "      <td>1.000000</td>\n",
       "      <td>1.000000</td>\n",
       "      <td>1.000000</td>\n",
       "    </tr>\n",
       "  </tbody>\n",
       "</table>\n",
       "<p>8 rows × 22 columns</p>\n",
       "</div>"
      ],
      "text/plain": [
       "              age          bp          sg          al          su          pc  \\\n",
       "count  395.000000  395.000000  395.000000  395.000000  395.000000  395.000000   \n",
       "mean    51.455959   76.432292    1.017407    1.008571    0.455331    0.226586   \n",
       "std     16.845351   13.500540    0.005397    1.269492    1.034994    0.383697   \n",
       "min      2.000000   50.000000    1.005000    0.000000    0.000000    0.000000   \n",
       "25%     42.000000   70.000000    1.015000    0.000000    0.000000    0.000000   \n",
       "50%     54.000000   80.000000    1.017407    0.000000    0.000000    0.000000   \n",
       "75%     64.000000   80.000000    1.020000    2.000000    0.455331    0.226586   \n",
       "max     90.000000  180.000000    1.025000    5.000000    5.000000    1.000000   \n",
       "\n",
       "              pcc          ba         bgr          bu  ...         pot  \\\n",
       "count  395.000000  395.000000  395.000000  395.000000  ...  395.000000   \n",
       "mean     0.107417    0.056266  148.031339   57.479255  ...    4.628247   \n",
       "std      0.308461    0.229556   75.138023   49.416675  ...    2.837424   \n",
       "min      0.000000    0.000000   22.000000    1.500000  ...    2.500000   \n",
       "25%      0.000000    0.000000  101.000000   27.000000  ...    4.000000   \n",
       "50%      0.000000    0.000000  125.000000   44.000000  ...    4.628247   \n",
       "75%      0.000000    0.000000  149.015670   62.500000  ...    4.800000   \n",
       "max      1.000000    1.000000  490.000000  391.000000  ...   47.000000   \n",
       "\n",
       "             hemo         pcv         htn          dm         cad       appet  \\\n",
       "count  395.000000  395.000000  395.000000  395.000000  395.000000  395.000000   \n",
       "mean    12.534012   38.898462    0.368957    0.340967    0.086514    0.791878   \n",
       "std      2.728991    8.195215    0.481909    0.473432    0.280765    0.405964   \n",
       "min      3.100000    9.000000    0.000000    0.000000    0.000000    0.000000   \n",
       "25%     10.850000   34.000000    0.000000    0.000000    0.000000    1.000000   \n",
       "50%     12.534012   38.898462    0.000000    0.000000    0.000000    1.000000   \n",
       "75%     14.700000   44.000000    1.000000    1.000000    0.000000    1.000000   \n",
       "max     17.800000   54.000000    1.000000    1.000000    1.000000    1.000000   \n",
       "\n",
       "               pe         ane       class  \n",
       "count  395.000000  395.000000  395.000000  \n",
       "mean     0.190355    0.152284    0.620253  \n",
       "std      0.392581    0.359296    0.485939  \n",
       "min      0.000000    0.000000    0.000000  \n",
       "25%      0.000000    0.000000    0.000000  \n",
       "50%      0.000000    0.000000    1.000000  \n",
       "75%      0.000000    0.000000    1.000000  \n",
       "max      1.000000    1.000000    1.000000  \n",
       "\n",
       "[8 rows x 22 columns]"
      ]
     },
     "execution_count": 19,
     "metadata": {},
     "output_type": "execute_result"
    }
   ],
   "source": [
    "kidney_df.describe()"
   ]
  },
  {
   "cell_type": "markdown",
   "metadata": {},
   "source": [
    "std is high for al, su, rbc, pc, pcc, ba, bgr etc  . These fields do not have a normal distribution."
   ]
  },
  {
   "cell_type": "markdown",
   "metadata": {
    "colab_type": "text",
    "id": "TsGb18GilFbm"
   },
   "source": [
    "##  EDA"
   ]
  },
  {
   "cell_type": "code",
   "execution_count": 20,
   "metadata": {},
   "outputs": [
    {
     "data": {
      "text/plain": [
       "array([[<matplotlib.axes._subplots.AxesSubplot object at 0x000000000BAA9358>,\n",
       "        <matplotlib.axes._subplots.AxesSubplot object at 0x000000000BABF9B0>,\n",
       "        <matplotlib.axes._subplots.AxesSubplot object at 0x000000000BADBF28>,\n",
       "        <matplotlib.axes._subplots.AxesSubplot object at 0x000000000BB0B4E0>,\n",
       "        <matplotlib.axes._subplots.AxesSubplot object at 0x000000000BB33A58>],\n",
       "       [<matplotlib.axes._subplots.AxesSubplot object at 0x000000000BB58EF0>,\n",
       "        <matplotlib.axes._subplots.AxesSubplot object at 0x000000000BB894A8>,\n",
       "        <matplotlib.axes._subplots.AxesSubplot object at 0x000000000BBB2A58>,\n",
       "        <matplotlib.axes._subplots.AxesSubplot object at 0x000000000BBB2A90>,\n",
       "        <matplotlib.axes._subplots.AxesSubplot object at 0x000000000BC09550>],\n",
       "       [<matplotlib.axes._subplots.AxesSubplot object at 0x000000000BE41AC8>,\n",
       "        <matplotlib.axes._subplots.AxesSubplot object at 0x000000000BE71080>,\n",
       "        <matplotlib.axes._subplots.AxesSubplot object at 0x000000000BE975F8>,\n",
       "        <matplotlib.axes._subplots.AxesSubplot object at 0x000000000BEBEB70>,\n",
       "        <matplotlib.axes._subplots.AxesSubplot object at 0x000000000C100128>],\n",
       "       [<matplotlib.axes._subplots.AxesSubplot object at 0x000000000C1256A0>,\n",
       "        <matplotlib.axes._subplots.AxesSubplot object at 0x000000000C14EC18>,\n",
       "        <matplotlib.axes._subplots.AxesSubplot object at 0x000000000C17E1D0>,\n",
       "        <matplotlib.axes._subplots.AxesSubplot object at 0x000000000C1A5748>,\n",
       "        <matplotlib.axes._subplots.AxesSubplot object at 0x000000000C1CCCC0>],\n",
       "       [<matplotlib.axes._subplots.AxesSubplot object at 0x000000000C1FD278>,\n",
       "        <matplotlib.axes._subplots.AxesSubplot object at 0x000000000C2247F0>,\n",
       "        <matplotlib.axes._subplots.AxesSubplot object at 0x000000000C24ED68>,\n",
       "        <matplotlib.axes._subplots.AxesSubplot object at 0x000000000C27E320>,\n",
       "        <matplotlib.axes._subplots.AxesSubplot object at 0x000000000C4B2898>]],\n",
       "      dtype=object)"
      ]
     },
     "execution_count": 20,
     "metadata": {},
     "output_type": "execute_result"
    },
    {
     "data": {
      "image/png": "[encoded data removed]",
      "text/plain": [
       "<Figure size 720x720 with 25 Axes>"
      ]
     },
     "metadata": {
      "needs_background": "light"
     },
     "output_type": "display_data"
    }
   ],
   "source": [
    "kidney_df.hist(bins=10, figsize=(10,10))"
   ]
  },
  {
   "cell_type": "markdown",
   "metadata": {},
   "source": [
    "We have asymmetric distribution of the data in the plots. We can clearly see the data are not continuous in nature."
   ]
  },
  {
   "cell_type": "markdown",
   "metadata": {},
   "source": [
    "#### Pair plotting randomly chosen columns like the age, bp, sugar(sg), hemoglobin(hemo)"
   ]
  },
  {
   "cell_type": "code",
   "execution_count": 21,
   "metadata": {},
   "outputs": [
    {
     "data": {
      "text/plain": [
       "<seaborn.axisgrid.PairGrid at 0xcc4a9e8>"
      ]
     },
     "execution_count": 21,
     "metadata": {},
     "output_type": "execute_result"
    },
    {
     "data": {
      "image/png": "[encoded data removed]",
      "text/plain": [
       "<Figure size 720x720 with 20 Axes>"
      ]
     },
     "metadata": {
      "needs_background": "light"
     },
     "output_type": "display_data"
    }
   ],
   "source": [
    "sns.pairplot(kidney_df, vars=[\"age\",\"bp\",\"sg\",\"hemo\"])"
   ]
  },
  {
   "cell_type": "markdown",
   "metadata": {},
   "source": [
    "People whose age is around 50 have bp value less than 100 and hemo values lingering between 10-17.5. People having bp below 100 have hemo values ranging somewhere between 7.5 - 17.5 units. "
   ]
  },
  {
   "cell_type": "code",
   "execution_count": 22,
   "metadata": {},
   "outputs": [
    {
     "data": {
      "text/plain": [
       "<matplotlib.axes._subplots.AxesSubplot at 0xd408780>"
      ]
     },
     "execution_count": 22,
     "metadata": {},
     "output_type": "execute_result"
    },
    {
     "data": {
      "image/png": "[encoded data removed]",
      "text/plain": [
       "<Figure size 432x288 with 1 Axes>"
      ]
     },
     "metadata": {
      "needs_background": "light"
     },
     "output_type": "display_data"
    }
   ],
   "source": [
    "sns.countplot(x='class', data=kidney_df)"
   ]
  },
  {
   "cell_type": "markdown",
   "metadata": {},
   "source": [
    "We can see that 150 people in the sample do not have kidney disorder and where as the remaining 245 people have a kidney disorder because of unhealthy lifestyle."
   ]
  },
  {
   "cell_type": "markdown",
   "metadata": {
    "colab_type": "text",
    "id": "INBU1ORJlFbv"
   },
   "source": [
    "##  Classification using Decision Tree algorithm and explaining the performance"
   ]
  },
  {
   "cell_type": "markdown",
   "metadata": {},
   "source": [
    "### Seperating features and label"
   ]
  },
  {
   "cell_type": "code",
   "execution_count": 23,
   "metadata": {},
   "outputs": [
    {
     "data": {
      "text/plain": [
       "Index(['age', 'bp', 'sg', 'al', 'su', 'pc', 'pcc', 'ba', 'bgr', 'bu', 'sc',\n",
       "       'sod', 'pot', 'hemo', 'pcv', 'htn', 'dm', 'cad', 'appet', 'pe', 'ane'],\n",
       "      dtype='object')"
      ]
     },
     "execution_count": 23,
     "metadata": {},
     "output_type": "execute_result"
    }
   ],
   "source": [
    "x = kidney_df.drop('class', axis=1)\n",
    "y = kidney_df['class']\n",
    "\n",
    "x.columns\n"
   ]
  },
  {
   "cell_type": "markdown",
   "metadata": {},
   "source": [
    "### Creating the instance of the Decision Tree"
   ]
  },
  {
   "cell_type": "code",
   "execution_count": 24,
   "metadata": {},
   "outputs": [],
   "source": [
    "from sklearn import tree"
   ]
  },
  {
   "cell_type": "code",
   "execution_count": 25,
   "metadata": {},
   "outputs": [],
   "source": [
    "decision_tree = tree.DecisionTreeClassifier(max_depth=3, min_samples_split=5, random_state=8)"
   ]
  },
  {
   "cell_type": "markdown",
   "metadata": {},
   "source": [
    "### Train the model using X and Y "
   ]
  },
  {
   "cell_type": "code",
   "execution_count": 26,
   "metadata": {},
   "outputs": [],
   "source": [
    "decision_tree = decision_tree.fit(x,y)"
   ]
  },
  {
   "cell_type": "code",
   "execution_count": 27,
   "metadata": {},
   "outputs": [
    {
     "data": {
      "text/plain": [
       "[('age', 0.0),\n",
       " ('bp', 0.0),\n",
       " ('sg', 0.16402295396825317),\n",
       " ('al', 0.0),\n",
       " ('su', 0.0),\n",
       " ('pc', 0.0),\n",
       " ('pcc', 0.0),\n",
       " ('ba', 0.0),\n",
       " ('bgr', 0.0),\n",
       " ('bu', 0.008228184209079283),\n",
       " ('sc', 0.0),\n",
       " ('sod', 0.0),\n",
       " ('pot', 0.0),\n",
       " ('hemo', 0.7523641354056221),\n",
       " ('pcv', 0.04233379326449377),\n",
       " ('htn', 0.03305093315255168),\n",
       " ('dm', 0.0),\n",
       " ('cad', 0.0),\n",
       " ('appet', 0.0),\n",
       " ('pe', 0.0),\n",
       " ('ane', 0.0)]"
      ]
     },
     "execution_count": 27,
     "metadata": {},
     "output_type": "execute_result"
    }
   ],
   "source": [
    "list(zip(x.columns, decision_tree.feature_importances_))"
   ]
  },
  {
   "cell_type": "markdown",
   "metadata": {},
   "source": [
    "Clearly visible that the columns such has hemo (hemoglobin level) and sg(sugar levels) have major impact in predicting kidney disorder of the patient.\n",
    "Other columns have very neligible or no impact in the prediction of the kidney problem."
   ]
  },
  {
   "cell_type": "markdown",
   "metadata": {
    "colab_type": "text",
    "id": "O1_hxBF5lFcY"
   },
   "source": [
    "###  We will be using the graphviz for the tree visualization"
   ]
  },
  {
   "cell_type": "code",
   "execution_count": 28,
   "metadata": {},
   "outputs": [],
   "source": [
    "import graphviz\n",
    "\n",
    "with open('someTree.dot', 'w') as dotfile:\n",
    "    tree.export_graphviz(decision_tree, out_file=dotfile, feature_names=x.columns, filled=True)\n",
    "    dotfile.close()"
   ]
  },
  {
   "cell_type": "code",
   "execution_count": 29,
   "metadata": {},
   "outputs": [
    {
     "data": {
      "image/svg+xml": [
       "<?xml version=\"1.0\" encoding=\"UTF-8\" standalone=\"no\"?>\r\n",
       "<!DOCTYPE svg PUBLIC \"-//W3C//DTD SVG 1.1//EN\"\r\n",
       " \"http://www.w3.org/Graphics/SVG/1.1/DTD/svg11.dtd\">\r\n",
       "<!-- Generated by graphviz version 2.38.0 (20140413.2041)\r\n",
       " -->\r\n",
       "<!-- Title: Tree Pages: 1 -->\r\n",
       "<svg width=\"516pt\" height=\"373pt\"\r\n",
       " viewBox=\"0.00 0.00 515.50 373.00\" xmlns=\"http://www.w3.org/2000/svg\" xmlns:xlink=\"http://www.w3.org/1999/xlink\">\r\n",
       "<g id=\"graph0\" class=\"graph\" transform=\"scale(1 1) rotate(0) translate(4 369)\">\r\n",
       "<title>Tree</title>\r\n",
       "<polygon fill=\"white\" stroke=\"none\" points=\"-4,4 -4,-369 511.5,-369 511.5,4 -4,4\"/>\r\n",
       "<!-- 0 -->\r\n",
       "<g id=\"node1\" class=\"node\"><title>0</title>\r\n",
       "<polygon fill=\"#399de5\" fill-opacity=\"0.388235\" stroke=\"black\" points=\"285,-365 167,-365 167,-297 285,-297 285,-365\"/>\r\n",
       "<text text-anchor=\"middle\" x=\"226\" y=\"-349.8\" font-family=\"Times New Roman,serif\" font-size=\"14.00\">hemo &lt;= 13.05</text>\r\n",
       "<text text-anchor=\"middle\" x=\"226\" y=\"-334.8\" font-family=\"Times New Roman,serif\" font-size=\"14.00\">gini = 0.471</text>\r\n",
       "<text text-anchor=\"middle\" x=\"226\" y=\"-319.8\" font-family=\"Times New Roman,serif\" font-size=\"14.00\">samples = 395</text>\r\n",
       "<text text-anchor=\"middle\" x=\"226\" y=\"-304.8\" font-family=\"Times New Roman,serif\" font-size=\"14.00\">value = [150, 245]</text>\r\n",
       "</g>\r\n",
       "<!-- 1 -->\r\n",
       "<g id=\"node2\" class=\"node\"><title>1</title>\r\n",
       "<polygon fill=\"#399de5\" fill-opacity=\"0.960784\" stroke=\"black\" points=\"215,-261 111,-261 111,-193 215,-193 215,-261\"/>\r\n",
       "<text text-anchor=\"middle\" x=\"163\" y=\"-245.8\" font-family=\"Times New Roman,serif\" font-size=\"14.00\">pcv &lt;= 44.5</text>\r\n",
       "<text text-anchor=\"middle\" x=\"163\" y=\"-230.8\" font-family=\"Times New Roman,serif\" font-size=\"14.00\">gini = 0.074</text>\r\n",
       "<text text-anchor=\"middle\" x=\"163\" y=\"-215.8\" font-family=\"Times New Roman,serif\" font-size=\"14.00\">samples = 234</text>\r\n",
       "<text text-anchor=\"middle\" x=\"163\" y=\"-200.8\" font-family=\"Times New Roman,serif\" font-size=\"14.00\">value = [9, 225]</text>\r\n",
       "</g>\r\n",
       "<!-- 0&#45;&gt;1 -->\r\n",
       "<g id=\"edge1\" class=\"edge\"><title>0&#45;&gt;1</title>\r\n",
       "<path fill=\"none\" stroke=\"black\" d=\"M205.546,-296.884C200.264,-288.332 194.508,-279.013 188.986,-270.072\"/>\r\n",
       "<polygon fill=\"black\" stroke=\"black\" points=\"191.8,-267.968 183.567,-261.299 185.844,-271.647 191.8,-267.968\"/>\r\n",
       "<text text-anchor=\"middle\" x=\"177.817\" y=\"-281.929\" font-family=\"Times New Roman,serif\" font-size=\"14.00\">True</text>\r\n",
       "</g>\r\n",
       "<!-- 6 -->\r\n",
       "<g id=\"node7\" class=\"node\"><title>6</title>\r\n",
       "<polygon fill=\"#e58139\" fill-opacity=\"0.858824\" stroke=\"black\" points=\"344.5,-261 233.5,-261 233.5,-193 344.5,-193 344.5,-261\"/>\r\n",
       "<text text-anchor=\"middle\" x=\"289\" y=\"-245.8\" font-family=\"Times New Roman,serif\" font-size=\"14.00\">sg &lt;= 1.016</text>\r\n",
       "<text text-anchor=\"middle\" x=\"289\" y=\"-230.8\" font-family=\"Times New Roman,serif\" font-size=\"14.00\">gini = 0.218</text>\r\n",
       "<text text-anchor=\"middle\" x=\"289\" y=\"-215.8\" font-family=\"Times New Roman,serif\" font-size=\"14.00\">samples = 161</text>\r\n",
       "<text text-anchor=\"middle\" x=\"289\" y=\"-200.8\" font-family=\"Times New Roman,serif\" font-size=\"14.00\">value = [141, 20]</text>\r\n",
       "</g>\r\n",
       "<!-- 0&#45;&gt;6 -->\r\n",
       "<g id=\"edge6\" class=\"edge\"><title>0&#45;&gt;6</title>\r\n",
       "<path fill=\"none\" stroke=\"black\" d=\"M246.454,-296.884C251.736,-288.332 257.492,-279.013 263.014,-270.072\"/>\r\n",
       "<polygon fill=\"black\" stroke=\"black\" points=\"266.156,-271.647 268.433,-261.299 260.2,-267.968 266.156,-271.647\"/>\r\n",
       "<text text-anchor=\"middle\" x=\"274.183\" y=\"-281.929\" font-family=\"Times New Roman,serif\" font-size=\"14.00\">False</text>\r\n",
       "</g>\r\n",
       "<!-- 2 -->\r\n",
       "<g id=\"node3\" class=\"node\"><title>2</title>\r\n",
       "<polygon fill=\"#399de5\" fill-opacity=\"0.976471\" stroke=\"black\" points=\"104,-157 0,-157 0,-89 104,-89 104,-157\"/>\r\n",
       "<text text-anchor=\"middle\" x=\"52\" y=\"-141.8\" font-family=\"Times New Roman,serif\" font-size=\"14.00\">bu &lt;= 15.5</text>\r\n",
       "<text text-anchor=\"middle\" x=\"52\" y=\"-126.8\" font-family=\"Times New Roman,serif\" font-size=\"14.00\">gini = 0.043</text>\r\n",
       "<text text-anchor=\"middle\" x=\"52\" y=\"-111.8\" font-family=\"Times New Roman,serif\" font-size=\"14.00\">samples = 230</text>\r\n",
       "<text text-anchor=\"middle\" x=\"52\" y=\"-96.8\" font-family=\"Times New Roman,serif\" font-size=\"14.00\">value = [5, 225]</text>\r\n",
       "</g>\r\n",
       "<!-- 1&#45;&gt;2 -->\r\n",
       "<g id=\"edge2\" class=\"edge\"><title>1&#45;&gt;2</title>\r\n",
       "<path fill=\"none\" stroke=\"black\" d=\"M126.961,-192.884C116.977,-183.709 106.031,-173.65 95.663,-164.123\"/>\r\n",
       "<polygon fill=\"black\" stroke=\"black\" points=\"97.969,-161.488 88.2375,-157.299 93.2326,-166.643 97.969,-161.488\"/>\r\n",
       "</g>\r\n",
       "<!-- 5 -->\r\n",
       "<g id=\"node6\" class=\"node\"><title>5</title>\r\n",
       "<polygon fill=\"#e58139\" stroke=\"black\" points=\"213.5,-149.5 122.5,-149.5 122.5,-96.5 213.5,-96.5 213.5,-149.5\"/>\r\n",
       "<text text-anchor=\"middle\" x=\"168\" y=\"-134.3\" font-family=\"Times New Roman,serif\" font-size=\"14.00\">gini = 0.0</text>\r\n",
       "<text text-anchor=\"middle\" x=\"168\" y=\"-119.3\" font-family=\"Times New Roman,serif\" font-size=\"14.00\">samples = 4</text>\r\n",
       "<text text-anchor=\"middle\" x=\"168\" y=\"-104.3\" font-family=\"Times New Roman,serif\" font-size=\"14.00\">value = [4, 0]</text>\r\n",
       "</g>\r\n",
       "<!-- 1&#45;&gt;5 -->\r\n",
       "<g id=\"edge5\" class=\"edge\"><title>1&#45;&gt;5</title>\r\n",
       "<path fill=\"none\" stroke=\"black\" d=\"M164.623,-192.884C165.146,-182.216 165.728,-170.352 166.259,-159.519\"/>\r\n",
       "<polygon fill=\"black\" stroke=\"black\" points=\"169.755,-159.679 166.749,-149.52 162.764,-159.337 169.755,-159.679\"/>\r\n",
       "</g>\r\n",
       "<!-- 3 -->\r\n",
       "<g id=\"node4\" class=\"node\"><title>3</title>\r\n",
       "<polygon fill=\"#399de5\" fill-opacity=\"0.333333\" stroke=\"black\" points=\"96.5,-53 5.5,-53 5.5,-0 96.5,-0 96.5,-53\"/>\r\n",
       "<text text-anchor=\"middle\" x=\"51\" y=\"-37.8\" font-family=\"Times New Roman,serif\" font-size=\"14.00\">gini = 0.48</text>\r\n",
       "<text text-anchor=\"middle\" x=\"51\" y=\"-22.8\" font-family=\"Times New Roman,serif\" font-size=\"14.00\">samples = 5</text>\r\n",
       "<text text-anchor=\"middle\" x=\"51\" y=\"-7.8\" font-family=\"Times New Roman,serif\" font-size=\"14.00\">value = [2, 3]</text>\r\n",
       "</g>\r\n",
       "<!-- 2&#45;&gt;3 -->\r\n",
       "<g id=\"edge3\" class=\"edge\"><title>2&#45;&gt;3</title>\r\n",
       "<path fill=\"none\" stroke=\"black\" d=\"M51.6502,-88.9485C51.5631,-80.7153 51.4693,-71.848 51.3808,-63.4814\"/>\r\n",
       "<polygon fill=\"black\" stroke=\"black\" points=\"54.8781,-63.1991 51.2723,-53.2367 47.8785,-63.2732 54.8781,-63.1991\"/>\r\n",
       "</g>\r\n",
       "<!-- 4 -->\r\n",
       "<g id=\"node5\" class=\"node\"><title>4</title>\r\n",
       "<polygon fill=\"#399de5\" fill-opacity=\"0.988235\" stroke=\"black\" points=\"219,-53 115,-53 115,-0 219,-0 219,-53\"/>\r\n",
       "<text text-anchor=\"middle\" x=\"167\" y=\"-37.8\" font-family=\"Times New Roman,serif\" font-size=\"14.00\">gini = 0.026</text>\r\n",
       "<text text-anchor=\"middle\" x=\"167\" y=\"-22.8\" font-family=\"Times New Roman,serif\" font-size=\"14.00\">samples = 225</text>\r\n",
       "<text text-anchor=\"middle\" x=\"167\" y=\"-7.8\" font-family=\"Times New Roman,serif\" font-size=\"14.00\">value = [3, 222]</text>\r\n",
       "</g>\r\n",
       "<!-- 2&#45;&gt;4 -->\r\n",
       "<g id=\"edge4\" class=\"edge\"><title>2&#45;&gt;4</title>\r\n",
       "<path fill=\"none\" stroke=\"black\" d=\"M92.2214,-88.9485C103.799,-79.4346 116.407,-69.074 127.915,-59.6175\"/>\r\n",
       "<polygon fill=\"black\" stroke=\"black\" points=\"130.176,-62.2897 135.68,-53.2367 125.732,-56.8814 130.176,-62.2897\"/>\r\n",
       "</g>\r\n",
       "<!-- 7 -->\r\n",
       "<g id=\"node8\" class=\"node\"><title>7</title>\r\n",
       "<polygon fill=\"#399de5\" stroke=\"black\" points=\"333,-149.5 235,-149.5 235,-96.5 333,-96.5 333,-149.5\"/>\r\n",
       "<text text-anchor=\"middle\" x=\"284\" y=\"-134.3\" font-family=\"Times New Roman,serif\" font-size=\"14.00\">gini = 0.0</text>\r\n",
       "<text text-anchor=\"middle\" x=\"284\" y=\"-119.3\" font-family=\"Times New Roman,serif\" font-size=\"14.00\">samples = 17</text>\r\n",
       "<text text-anchor=\"middle\" x=\"284\" y=\"-104.3\" font-family=\"Times New Roman,serif\" font-size=\"14.00\">value = [0, 17]</text>\r\n",
       "</g>\r\n",
       "<!-- 6&#45;&gt;7 -->\r\n",
       "<g id=\"edge7\" class=\"edge\"><title>6&#45;&gt;7</title>\r\n",
       "<path fill=\"none\" stroke=\"black\" d=\"M287.377,-192.884C286.854,-182.216 286.272,-170.352 285.741,-159.519\"/>\r\n",
       "<polygon fill=\"black\" stroke=\"black\" points=\"289.236,-159.337 285.251,-149.52 282.245,-159.679 289.236,-159.337\"/>\r\n",
       "</g>\r\n",
       "<!-- 8 -->\r\n",
       "<g id=\"node9\" class=\"node\"><title>8</title>\r\n",
       "<polygon fill=\"#e58139\" fill-opacity=\"0.980392\" stroke=\"black\" points=\"455,-157 351,-157 351,-89 455,-89 455,-157\"/>\r\n",
       "<text text-anchor=\"middle\" x=\"403\" y=\"-141.8\" font-family=\"Times New Roman,serif\" font-size=\"14.00\">htn &lt;= 0.684</text>\r\n",
       "<text text-anchor=\"middle\" x=\"403\" y=\"-126.8\" font-family=\"Times New Roman,serif\" font-size=\"14.00\">gini = 0.041</text>\r\n",
       "<text text-anchor=\"middle\" x=\"403\" y=\"-111.8\" font-family=\"Times New Roman,serif\" font-size=\"14.00\">samples = 144</text>\r\n",
       "<text text-anchor=\"middle\" x=\"403\" y=\"-96.8\" font-family=\"Times New Roman,serif\" font-size=\"14.00\">value = [141, 3]</text>\r\n",
       "</g>\r\n",
       "<!-- 6&#45;&gt;8 -->\r\n",
       "<g id=\"edge8\" class=\"edge\"><title>6&#45;&gt;8</title>\r\n",
       "<path fill=\"none\" stroke=\"black\" d=\"M326.013,-192.884C336.266,-183.709 347.509,-173.65 358.157,-164.123\"/>\r\n",
       "<polygon fill=\"black\" stroke=\"black\" points=\"360.664,-166.576 365.783,-157.299 355.997,-161.359 360.664,-166.576\"/>\r\n",
       "</g>\r\n",
       "<!-- 9 -->\r\n",
       "<g id=\"node10\" class=\"node\"><title>9</title>\r\n",
       "<polygon fill=\"#e58139\" stroke=\"black\" points=\"398,-53 294,-53 294,-0 398,-0 398,-53\"/>\r\n",
       "<text text-anchor=\"middle\" x=\"346\" y=\"-37.8\" font-family=\"Times New Roman,serif\" font-size=\"14.00\">gini = 0.0</text>\r\n",
       "<text text-anchor=\"middle\" x=\"346\" y=\"-22.8\" font-family=\"Times New Roman,serif\" font-size=\"14.00\">samples = 141</text>\r\n",
       "<text text-anchor=\"middle\" x=\"346\" y=\"-7.8\" font-family=\"Times New Roman,serif\" font-size=\"14.00\">value = [141, 0]</text>\r\n",
       "</g>\r\n",
       "<!-- 8&#45;&gt;9 -->\r\n",
       "<g id=\"edge9\" class=\"edge\"><title>8&#45;&gt;9</title>\r\n",
       "<path fill=\"none\" stroke=\"black\" d=\"M383.064,-88.9485C377.767,-80.1664 372.035,-70.6629 366.698,-61.815\"/>\r\n",
       "<polygon fill=\"black\" stroke=\"black\" points=\"369.686,-59.9919 361.524,-53.2367 363.692,-63.6074 369.686,-59.9919\"/>\r\n",
       "</g>\r\n",
       "<!-- 10 -->\r\n",
       "<g id=\"node11\" class=\"node\"><title>10</title>\r\n",
       "<polygon fill=\"#399de5\" stroke=\"black\" points=\"507.5,-53 416.5,-53 416.5,-0 507.5,-0 507.5,-53\"/>\r\n",
       "<text text-anchor=\"middle\" x=\"462\" y=\"-37.8\" font-family=\"Times New Roman,serif\" font-size=\"14.00\">gini = 0.0</text>\r\n",
       "<text text-anchor=\"middle\" x=\"462\" y=\"-22.8\" font-family=\"Times New Roman,serif\" font-size=\"14.00\">samples = 3</text>\r\n",
       "<text text-anchor=\"middle\" x=\"462\" y=\"-7.8\" font-family=\"Times New Roman,serif\" font-size=\"14.00\">value = [0, 3]</text>\r\n",
       "</g>\r\n",
       "<!-- 8&#45;&gt;10 -->\r\n",
       "<g id=\"edge10\" class=\"edge\"><title>8&#45;&gt;10</title>\r\n",
       "<path fill=\"none\" stroke=\"black\" d=\"M423.635,-88.9485C429.118,-80.1664 435.052,-70.6629 440.576,-61.815\"/>\r\n",
       "<polygon fill=\"black\" stroke=\"black\" points=\"443.604,-63.5728 445.932,-53.2367 437.667,-59.8656 443.604,-63.5728\"/>\r\n",
       "</g>\r\n",
       "</g>\r\n",
       "</svg>\r\n"
      ],
      "text/plain": [
       "<graphviz.files.Source at 0xe2257f0>"
      ]
     },
     "execution_count": 29,
     "metadata": {},
     "output_type": "execute_result"
    }
   ],
   "source": [
    "from graphviz import Source\n",
    "with open('someTree.dot', 'r') as file:\n",
    "    text_contents = file.read()\n",
    "    plot_graph = Source(text_contents)\n",
    "    \n",
    "plot_graph    "
   ]
  },
  {
   "cell_type": "markdown",
   "metadata": {},
   "source": [
    "Conclusions from the tree map :\n",
    "So we can make some conclusions like people with hemo value less than 13.05 and pcv value(packed cell volume) less than 44.5 and bu value greater than 15.5 have the highest chance of a kidney disorder.\n",
    "Also people with hemo > 13.05, sg > 1.016 and htn < 0.684 have the highest chance of not having any kidney disorder."
   ]
  },
  {
   "cell_type": "markdown",
   "metadata": {},
   "source": [
    "### Predict the output using the model "
   ]
  },
  {
   "cell_type": "code",
   "execution_count": 30,
   "metadata": {},
   "outputs": [],
   "source": [
    "prediction = decision_tree.predict(x)"
   ]
  },
  {
   "cell_type": "markdown",
   "metadata": {},
   "source": [
    "### Evaluate the model using some metrics"
   ]
  },
  {
   "cell_type": "code",
   "execution_count": 31,
   "metadata": {},
   "outputs": [
    {
     "name": "stdout",
     "output_type": "stream",
     "text": [
      "0.9873417721518988\n"
     ]
    }
   ],
   "source": [
    "print(decision_tree.score(x,y))"
   ]
  },
  {
   "cell_type": "code",
   "execution_count": 32,
   "metadata": {},
   "outputs": [
    {
     "name": "stdout",
     "output_type": "stream",
     "text": [
      "[[145   5]\n",
      " [  0 245]]\n"
     ]
    }
   ],
   "source": [
    "from sklearn import metrics\n",
    "\n",
    "conf_matrx = metrics.confusion_matrix(y,prediction)\n",
    "print(conf_matrx)"
   ]
  },
  {
   "cell_type": "code",
   "execution_count": 33,
   "metadata": {},
   "outputs": [
    {
     "data": {
      "text/plain": [
       "<matplotlib.axes._subplots.AxesSubplot at 0xe2624a8>"
      ]
     },
     "execution_count": 33,
     "metadata": {},
     "output_type": "execute_result"
    },
    {
     "data": {
      "image/png": "[encoded data removed]",
      "text/plain": [
       "<Figure size 432x288 with 2 Axes>"
      ]
     },
     "metadata": {
      "needs_background": "light"
     },
     "output_type": "display_data"
    }
   ],
   "source": [
    "sns.heatmap(conf_matrx, cmap=\"YlGnBu\", xticklabels=['Prediction NO', 'Prediction YES'], yticklabels=['Actual NO', 'Actual YES'], annot=True, fmt='d')"
   ]
  },
  {
   "cell_type": "code",
   "execution_count": 34,
   "metadata": {},
   "outputs": [
    {
     "name": "stdout",
     "output_type": "stream",
     "text": [
      "              precision    recall  f1-score   support\n",
      "\n",
      "         0.0       1.00      0.97      0.98       150\n",
      "         1.0       0.98      1.00      0.99       245\n",
      "\n",
      "   micro avg       0.99      0.99      0.99       395\n",
      "   macro avg       0.99      0.98      0.99       395\n",
      "weighted avg       0.99      0.99      0.99       395\n",
      "\n"
     ]
    }
   ],
   "source": [
    "classification_report = metrics.classification_report(y, prediction)\n",
    "print(classification_report)"
   ]
  },
  {
   "cell_type": "markdown",
   "metadata": {},
   "source": [
    "*** Since the precison and the recall values of the model are pretty high we can conclude that the model is very accurate in predicting the kidney disorder of the patient"
   ]
  }
 ],
 "metadata": {
  "colab": {
   "collapsed_sections": [],
   "name": "Question.ipynb",
   "provenance": [],
   "version": "0.3.2"
  },
  "kernelspec": {
   "display_name": "Python 3",
   "language": "python",
   "name": "python3"
  },
  "language_info": {
   "codemirror_mode": {
    "name": "ipython",
    "version": 3
   },
   "file_extension": ".py",
   "mimetype": "text/x-python",
   "name": "python",
   "nbconvert_exporter": "python",
   "pygments_lexer": "ipython3",
   "version": "3.7.3"
  }
 },
 "nbformat": 4,
 "nbformat_minor": 1
}
